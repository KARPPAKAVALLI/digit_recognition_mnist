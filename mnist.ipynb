{
 "cells": [
  {
   "cell_type": "code",
   "execution_count": 1,
   "id": "e413acc9",
   "metadata": {
    "execution": {
     "iopub.execute_input": "2023-04-29T17:09:11.429042Z",
     "iopub.status.busy": "2023-04-29T17:09:11.428641Z",
     "iopub.status.idle": "2023-04-29T17:09:11.441820Z",
     "shell.execute_reply": "2023-04-29T17:09:11.440618Z"
    },
    "papermill": {
     "duration": 0.023439,
     "end_time": "2023-04-29T17:09:11.444467",
     "exception": false,
     "start_time": "2023-04-29T17:09:11.421028",
     "status": "completed"
    },
    "tags": []
   },
   "outputs": [],
   "source": [
    "import numpy as np\n",
    "import pandas as pd\n",
    "import matplotlib.pyplot as plt"
   ]
  },
  {
   "cell_type": "markdown",
   "id": "95b812c0",
   "metadata": {
    "papermill": {
     "duration": 0.004362,
     "end_time": "2023-04-29T17:09:11.453756",
     "exception": false,
     "start_time": "2023-04-29T17:09:11.449394",
     "status": "completed"
    },
    "tags": []
   },
   "source": [
    "# Importing the MNIST dataset from keras"
   ]
  },
  {
   "cell_type": "code",
   "execution_count": 2,
   "id": "8b7795c5",
   "metadata": {
    "execution": {
     "iopub.execute_input": "2023-04-29T17:09:11.464674Z",
     "iopub.status.busy": "2023-04-29T17:09:11.464293Z",
     "iopub.status.idle": "2023-04-29T17:09:19.482324Z",
     "shell.execute_reply": "2023-04-29T17:09:19.481043Z"
    },
    "papermill": {
     "duration": 8.026939,
     "end_time": "2023-04-29T17:09:19.485213",
     "exception": false,
     "start_time": "2023-04-29T17:09:11.458274",
     "status": "completed"
    },
    "tags": []
   },
   "outputs": [
    {
     "name": "stdout",
     "output_type": "stream",
     "text": [
      "Downloading data from https://storage.googleapis.com/tensorflow/tf-keras-datasets/mnist.npz\n",
      "11490434/11490434 [==============================] - 0s 0us/step\n"
     ]
    }
   ],
   "source": [
    "from keras.datasets import mnist\n",
    "(train_X, train_y),(test_X, test_y) = mnist.load_data()"
   ]
  },
  {
   "cell_type": "code",
   "execution_count": 3,
   "id": "f3634010",
   "metadata": {
    "execution": {
     "iopub.execute_input": "2023-04-29T17:09:19.498526Z",
     "iopub.status.busy": "2023-04-29T17:09:19.496987Z",
     "iopub.status.idle": "2023-04-29T17:09:19.504443Z",
     "shell.execute_reply": "2023-04-29T17:09:19.503485Z"
    },
    "papermill": {
     "duration": 0.016427,
     "end_time": "2023-04-29T17:09:19.506830",
     "exception": false,
     "start_time": "2023-04-29T17:09:19.490403",
     "status": "completed"
    },
    "tags": []
   },
   "outputs": [
    {
     "name": "stdout",
     "output_type": "stream",
     "text": [
      "X_train: (60000, 28, 28)\n",
      "Y_train: (60000,)\n",
      "X_test:  (10000, 28, 28)\n",
      "Y_test:  (10000,)\n"
     ]
    }
   ],
   "source": [
    "print('X_train: ' + str(train_X.shape))\n",
    "print('Y_train: ' + str(train_y.shape))\n",
    "print('X_test:  '  + str(test_X.shape))\n",
    "print('Y_test:  '  + str(test_y.shape))"
   ]
  },
  {
   "cell_type": "code",
   "execution_count": 4,
   "id": "8b2d02e4",
   "metadata": {
    "execution": {
     "iopub.execute_input": "2023-04-29T17:09:19.518690Z",
     "iopub.status.busy": "2023-04-29T17:09:19.518253Z",
     "iopub.status.idle": "2023-04-29T17:09:19.530048Z",
     "shell.execute_reply": "2023-04-29T17:09:19.528789Z"
    },
    "papermill": {
     "duration": 0.02056,
     "end_time": "2023-04-29T17:09:19.532441",
     "exception": false,
     "start_time": "2023-04-29T17:09:19.511881",
     "status": "completed"
    },
    "tags": []
   },
   "outputs": [
    {
     "data": {
      "text/plain": [
       "array([[[0, 0, 0, ..., 0, 0, 0],\n",
       "        [0, 0, 0, ..., 0, 0, 0],\n",
       "        [0, 0, 0, ..., 0, 0, 0],\n",
       "        ...,\n",
       "        [0, 0, 0, ..., 0, 0, 0],\n",
       "        [0, 0, 0, ..., 0, 0, 0],\n",
       "        [0, 0, 0, ..., 0, 0, 0]],\n",
       "\n",
       "       [[0, 0, 0, ..., 0, 0, 0],\n",
       "        [0, 0, 0, ..., 0, 0, 0],\n",
       "        [0, 0, 0, ..., 0, 0, 0],\n",
       "        ...,\n",
       "        [0, 0, 0, ..., 0, 0, 0],\n",
       "        [0, 0, 0, ..., 0, 0, 0],\n",
       "        [0, 0, 0, ..., 0, 0, 0]],\n",
       "\n",
       "       [[0, 0, 0, ..., 0, 0, 0],\n",
       "        [0, 0, 0, ..., 0, 0, 0],\n",
       "        [0, 0, 0, ..., 0, 0, 0],\n",
       "        ...,\n",
       "        [0, 0, 0, ..., 0, 0, 0],\n",
       "        [0, 0, 0, ..., 0, 0, 0],\n",
       "        [0, 0, 0, ..., 0, 0, 0]],\n",
       "\n",
       "       ...,\n",
       "\n",
       "       [[0, 0, 0, ..., 0, 0, 0],\n",
       "        [0, 0, 0, ..., 0, 0, 0],\n",
       "        [0, 0, 0, ..., 0, 0, 0],\n",
       "        ...,\n",
       "        [0, 0, 0, ..., 0, 0, 0],\n",
       "        [0, 0, 0, ..., 0, 0, 0],\n",
       "        [0, 0, 0, ..., 0, 0, 0]],\n",
       "\n",
       "       [[0, 0, 0, ..., 0, 0, 0],\n",
       "        [0, 0, 0, ..., 0, 0, 0],\n",
       "        [0, 0, 0, ..., 0, 0, 0],\n",
       "        ...,\n",
       "        [0, 0, 0, ..., 0, 0, 0],\n",
       "        [0, 0, 0, ..., 0, 0, 0],\n",
       "        [0, 0, 0, ..., 0, 0, 0]],\n",
       "\n",
       "       [[0, 0, 0, ..., 0, 0, 0],\n",
       "        [0, 0, 0, ..., 0, 0, 0],\n",
       "        [0, 0, 0, ..., 0, 0, 0],\n",
       "        ...,\n",
       "        [0, 0, 0, ..., 0, 0, 0],\n",
       "        [0, 0, 0, ..., 0, 0, 0],\n",
       "        [0, 0, 0, ..., 0, 0, 0]]], dtype=uint8)"
      ]
     },
     "execution_count": 4,
     "metadata": {},
     "output_type": "execute_result"
    }
   ],
   "source": [
    "train_X"
   ]
  },
  {
   "cell_type": "code",
   "execution_count": 5,
   "id": "d0e4a9ca",
   "metadata": {
    "execution": {
     "iopub.execute_input": "2023-04-29T17:09:19.545155Z",
     "iopub.status.busy": "2023-04-29T17:09:19.544659Z",
     "iopub.status.idle": "2023-04-29T17:09:19.552677Z",
     "shell.execute_reply": "2023-04-29T17:09:19.551190Z"
    },
    "papermill": {
     "duration": 0.017293,
     "end_time": "2023-04-29T17:09:19.555152",
     "exception": false,
     "start_time": "2023-04-29T17:09:19.537859",
     "status": "completed"
    },
    "tags": []
   },
   "outputs": [
    {
     "data": {
      "text/plain": [
       "array([5, 0, 4, ..., 5, 6, 8], dtype=uint8)"
      ]
     },
     "execution_count": 5,
     "metadata": {},
     "output_type": "execute_result"
    }
   ],
   "source": [
    "train_y"
   ]
  },
  {
   "cell_type": "markdown",
   "id": "afd32edc",
   "metadata": {
    "papermill": {
     "duration": 0.005091,
     "end_time": "2023-04-29T17:09:19.565845",
     "exception": false,
     "start_time": "2023-04-29T17:09:19.560754",
     "status": "completed"
    },
    "tags": []
   },
   "source": [
    "# Plotting our data"
   ]
  },
  {
   "cell_type": "code",
   "execution_count": 6,
   "id": "00726421",
   "metadata": {
    "execution": {
     "iopub.execute_input": "2023-04-29T17:09:19.578501Z",
     "iopub.status.busy": "2023-04-29T17:09:19.578032Z",
     "iopub.status.idle": "2023-04-29T17:09:20.330851Z",
     "shell.execute_reply": "2023-04-29T17:09:20.329691Z"
    },
    "papermill": {
     "duration": 0.762287,
     "end_time": "2023-04-29T17:09:20.333501",
     "exception": false,
     "start_time": "2023-04-29T17:09:19.571214",
     "status": "completed"
    },
    "tags": []
   },
   "outputs": [
    {
     "data": {
      "image/png": "[encoded data removed]",
      "text/plain": [
       "<Figure size 640x480 with 9 Axes>"
      ]
     },
     "metadata": {},
     "output_type": "display_data"
    }
   ],
   "source": [
    "from matplotlib import pyplot\n",
    "for i in range(9):  \n",
    "    pyplot.subplot(330 + 1 + i)\n",
    "    pyplot.imshow(train_X[i], cmap=pyplot.get_cmap('gray'))\n",
    "pyplot.show()"
   ]
  },
  {
   "cell_type": "markdown",
   "id": "a99afeef",
   "metadata": {
    "papermill": {
     "duration": 0.005393,
     "end_time": "2023-04-29T17:09:20.344719",
     "exception": false,
     "start_time": "2023-04-29T17:09:20.339326",
     "status": "completed"
    },
    "tags": []
   },
   "source": [
    "# Building our model"
   ]
  },
  {
   "cell_type": "code",
   "execution_count": 7,
   "id": "b9af14fb",
   "metadata": {
    "execution": {
     "iopub.execute_input": "2023-04-29T17:09:20.357718Z",
     "iopub.status.busy": "2023-04-29T17:09:20.357288Z",
     "iopub.status.idle": "2023-04-29T17:09:20.778222Z",
     "shell.execute_reply": "2023-04-29T17:09:20.776787Z"
    },
    "papermill": {
     "duration": 0.430866,
     "end_time": "2023-04-29T17:09:20.781185",
     "exception": false,
     "start_time": "2023-04-29T17:09:20.350319",
     "status": "completed"
    },
    "tags": []
   },
   "outputs": [],
   "source": [
    "import tensorflow as tf\n",
    "from tensorflow.keras import Sequential\n",
    "from tensorflow.keras.layers import Dense"
   ]
  },
  {
   "cell_type": "code",
   "execution_count": 8,
   "id": "a66dc4ea",
   "metadata": {
    "execution": {
     "iopub.execute_input": "2023-04-29T17:09:20.794359Z",
     "iopub.status.busy": "2023-04-29T17:09:20.793964Z",
     "iopub.status.idle": "2023-04-29T17:09:20.985512Z",
     "shell.execute_reply": "2023-04-29T17:09:20.984459Z"
    },
    "papermill": {
     "duration": 0.201291,
     "end_time": "2023-04-29T17:09:20.988285",
     "exception": false,
     "start_time": "2023-04-29T17:09:20.786994",
     "status": "completed"
    },
    "tags": []
   },
   "outputs": [],
   "source": [
    "model = Sequential([ tf.keras.layers.Flatten(input_shape=(28, 28)),Dense(units=25,activation='relu'),Dense(units=15,activation='relu'),Dense(units=20,activation='linear')])"
   ]
  },
  {
   "cell_type": "code",
   "execution_count": 9,
   "id": "ebea3bbe",
   "metadata": {
    "execution": {
     "iopub.execute_input": "2023-04-29T17:09:21.001916Z",
     "iopub.status.busy": "2023-04-29T17:09:21.001533Z",
     "iopub.status.idle": "2023-04-29T17:09:21.006754Z",
     "shell.execute_reply": "2023-04-29T17:09:21.005687Z"
    },
    "papermill": {
     "duration": 0.015209,
     "end_time": "2023-04-29T17:09:21.009537",
     "exception": false,
     "start_time": "2023-04-29T17:09:20.994328",
     "status": "completed"
    },
    "tags": []
   },
   "outputs": [],
   "source": [
    "from tensorflow.keras.losses import SparseCategoricalCrossentropy"
   ]
  },
  {
   "cell_type": "code",
   "execution_count": 10,
   "id": "96cdad21",
   "metadata": {
    "execution": {
     "iopub.execute_input": "2023-04-29T17:09:21.023486Z",
     "iopub.status.busy": "2023-04-29T17:09:21.023069Z",
     "iopub.status.idle": "2023-04-29T17:09:21.028819Z",
     "shell.execute_reply": "2023-04-29T17:09:21.027605Z"
    },
    "papermill": {
     "duration": 0.01579,
     "end_time": "2023-04-29T17:09:21.031302",
     "exception": false,
     "start_time": "2023-04-29T17:09:21.015512",
     "status": "completed"
    },
    "tags": []
   },
   "outputs": [],
   "source": [
    "from tensorflow.keras.optimizers import Adam"
   ]
  },
  {
   "cell_type": "code",
   "execution_count": 11,
   "id": "64cd88a0",
   "metadata": {
    "execution": {
     "iopub.execute_input": "2023-04-29T17:09:21.044769Z",
     "iopub.status.busy": "2023-04-29T17:09:21.044302Z",
     "iopub.status.idle": "2023-04-29T17:09:21.259829Z",
     "shell.execute_reply": "2023-04-29T17:09:21.258060Z"
    },
    "papermill": {
     "duration": 0.225771,
     "end_time": "2023-04-29T17:09:21.262830",
     "exception": false,
     "start_time": "2023-04-29T17:09:21.037059",
     "status": "completed"
    },
    "tags": []
   },
   "outputs": [],
   "source": [
    "model.compile(optimizer=Adam(learning_rate=1e-3), metrics=['accuracy'],loss=SparseCategoricalCrossentropy(from_logits=True))"
   ]
  },
  {
   "cell_type": "code",
   "execution_count": 12,
   "id": "a059babe",
   "metadata": {
    "execution": {
     "iopub.execute_input": "2023-04-29T17:09:21.277604Z",
     "iopub.status.busy": "2023-04-29T17:09:21.277198Z",
     "iopub.status.idle": "2023-04-29T17:11:44.203331Z",
     "shell.execute_reply": "2023-04-29T17:11:44.202119Z"
    },
    "papermill": {
     "duration": 142.937124,
     "end_time": "2023-04-29T17:11:44.205845",
     "exception": false,
     "start_time": "2023-04-29T17:09:21.268721",
     "status": "completed"
    },
    "tags": []
   },
   "outputs": [
    {
     "name": "stdout",
     "output_type": "stream",
     "text": [
      "Epoch 1/100\n",
      "600/600 [==============================] - 2s 3ms/step - loss: 2.5957 - accuracy: 0.5236\n",
      "Epoch 2/100\n",
      "600/600 [==============================] - 1s 2ms/step - loss: 0.7470 - accuracy: 0.7919\n",
      "Epoch 3/100\n",
      "600/600 [==============================] - 1s 2ms/step - loss: 0.5573 - accuracy: 0.8496\n",
      "Epoch 4/100\n",
      "600/600 [==============================] - 1s 2ms/step - loss: 0.4612 - accuracy: 0.8753\n",
      "Epoch 5/100\n",
      "600/600 [==============================] - 1s 2ms/step - loss: 0.4006 - accuracy: 0.8900\n",
      "Epoch 6/100\n",
      "600/600 [==============================] - 1s 2ms/step - loss: 0.3636 - accuracy: 0.8995\n",
      "Epoch 7/100\n",
      "600/600 [==============================] - 1s 2ms/step - loss: 0.3323 - accuracy: 0.9069\n",
      "Epoch 8/100\n",
      "600/600 [==============================] - 1s 2ms/step - loss: 0.3157 - accuracy: 0.9114\n",
      "Epoch 9/100\n",
      "600/600 [==============================] - 1s 2ms/step - loss: 0.2978 - accuracy: 0.9155\n",
      "Epoch 10/100\n",
      "600/600 [==============================] - 2s 3ms/step - loss: 0.2855 - accuracy: 0.9196\n",
      "Epoch 11/100\n",
      "600/600 [==============================] - 1s 2ms/step - loss: 0.2698 - accuracy: 0.9244\n",
      "Epoch 12/100\n",
      "600/600 [==============================] - 1s 2ms/step - loss: 0.2552 - accuracy: 0.9270\n",
      "Epoch 13/100\n",
      "600/600 [==============================] - 1s 2ms/step - loss: 0.2439 - accuracy: 0.9300\n",
      "Epoch 14/100\n",
      "600/600 [==============================] - 1s 2ms/step - loss: 0.2320 - accuracy: 0.9342\n",
      "Epoch 15/100\n",
      "600/600 [==============================] - 1s 2ms/step - loss: 0.2193 - accuracy: 0.9378\n",
      "Epoch 16/100\n",
      "600/600 [==============================] - 1s 2ms/step - loss: 0.2090 - accuracy: 0.9412\n",
      "Epoch 17/100\n",
      "600/600 [==============================] - 1s 2ms/step - loss: 0.2004 - accuracy: 0.9431\n",
      "Epoch 18/100\n",
      "600/600 [==============================] - 1s 2ms/step - loss: 0.1946 - accuracy: 0.9450\n",
      "Epoch 19/100\n",
      "600/600 [==============================] - 1s 2ms/step - loss: 0.1880 - accuracy: 0.9463\n",
      "Epoch 20/100\n",
      "600/600 [==============================] - 1s 2ms/step - loss: 0.1826 - accuracy: 0.9487\n",
      "Epoch 21/100\n",
      "600/600 [==============================] - 1s 2ms/step - loss: 0.1777 - accuracy: 0.9496\n",
      "Epoch 22/100\n",
      "600/600 [==============================] - 1s 2ms/step - loss: 0.1775 - accuracy: 0.9498\n",
      "Epoch 23/100\n",
      "600/600 [==============================] - 1s 2ms/step - loss: 0.1728 - accuracy: 0.9511\n",
      "Epoch 24/100\n",
      "600/600 [==============================] - 1s 2ms/step - loss: 0.1689 - accuracy: 0.9524\n",
      "Epoch 25/100\n",
      "600/600 [==============================] - 1s 2ms/step - loss: 0.1649 - accuracy: 0.9538\n",
      "Epoch 26/100\n",
      "600/600 [==============================] - 1s 2ms/step - loss: 0.1620 - accuracy: 0.9539\n",
      "Epoch 27/100\n",
      "600/600 [==============================] - 1s 2ms/step - loss: 0.1620 - accuracy: 0.9532\n",
      "Epoch 28/100\n",
      "600/600 [==============================] - 1s 2ms/step - loss: 0.1573 - accuracy: 0.9553\n",
      "Epoch 29/100\n",
      "600/600 [==============================] - 1s 2ms/step - loss: 0.1553 - accuracy: 0.9562\n",
      "Epoch 30/100\n",
      "600/600 [==============================] - 1s 2ms/step - loss: 0.1529 - accuracy: 0.9558\n",
      "Epoch 31/100\n",
      "600/600 [==============================] - 1s 2ms/step - loss: 0.1512 - accuracy: 0.9566\n",
      "Epoch 32/100\n",
      "600/600 [==============================] - 1s 2ms/step - loss: 0.1504 - accuracy: 0.9565\n",
      "Epoch 33/100\n",
      "600/600 [==============================] - 1s 2ms/step - loss: 0.1459 - accuracy: 0.9574\n",
      "Epoch 34/100\n",
      "600/600 [==============================] - 1s 2ms/step - loss: 0.1453 - accuracy: 0.9585\n",
      "Epoch 35/100\n",
      "600/600 [==============================] - 1s 2ms/step - loss: 0.1428 - accuracy: 0.9578\n",
      "Epoch 36/100\n",
      "600/600 [==============================] - 1s 2ms/step - loss: 0.1399 - accuracy: 0.9590\n",
      "Epoch 37/100\n",
      "600/600 [==============================] - 1s 2ms/step - loss: 0.1384 - accuracy: 0.9604\n",
      "Epoch 38/100\n",
      "600/600 [==============================] - 1s 2ms/step - loss: 0.1337 - accuracy: 0.9610\n",
      "Epoch 39/100\n",
      "600/600 [==============================] - 1s 2ms/step - loss: 0.1337 - accuracy: 0.9612\n",
      "Epoch 40/100\n",
      "600/600 [==============================] - 1s 2ms/step - loss: 0.1303 - accuracy: 0.9617\n",
      "Epoch 41/100\n",
      "600/600 [==============================] - 1s 2ms/step - loss: 0.1311 - accuracy: 0.9616\n",
      "Epoch 42/100\n",
      "600/600 [==============================] - 1s 2ms/step - loss: 0.1280 - accuracy: 0.9624\n",
      "Epoch 43/100\n",
      "600/600 [==============================] - 1s 2ms/step - loss: 0.1249 - accuracy: 0.9635\n",
      "Epoch 44/100\n",
      "600/600 [==============================] - 1s 2ms/step - loss: 0.1246 - accuracy: 0.9637\n",
      "Epoch 45/100\n",
      "600/600 [==============================] - 1s 2ms/step - loss: 0.1241 - accuracy: 0.9633\n",
      "Epoch 46/100\n",
      "600/600 [==============================] - 1s 2ms/step - loss: 0.1209 - accuracy: 0.9646\n",
      "Epoch 47/100\n",
      "600/600 [==============================] - 1s 2ms/step - loss: 0.1201 - accuracy: 0.9644\n",
      "Epoch 48/100\n",
      "600/600 [==============================] - 1s 2ms/step - loss: 0.1176 - accuracy: 0.9654\n",
      "Epoch 49/100\n",
      "600/600 [==============================] - 1s 2ms/step - loss: 0.1197 - accuracy: 0.9643\n",
      "Epoch 50/100\n",
      "600/600 [==============================] - 1s 2ms/step - loss: 0.1147 - accuracy: 0.9657\n",
      "Epoch 51/100\n",
      "600/600 [==============================] - 1s 2ms/step - loss: 0.1136 - accuracy: 0.9660\n",
      "Epoch 52/100\n",
      "600/600 [==============================] - 1s 2ms/step - loss: 0.1117 - accuracy: 0.9670\n",
      "Epoch 53/100\n",
      "600/600 [==============================] - 1s 2ms/step - loss: 0.1133 - accuracy: 0.9666\n",
      "Epoch 54/100\n",
      "600/600 [==============================] - 1s 2ms/step - loss: 0.1099 - accuracy: 0.9667\n",
      "Epoch 55/100\n",
      "600/600 [==============================] - 2s 3ms/step - loss: 0.1087 - accuracy: 0.9668\n",
      "Epoch 56/100\n",
      "600/600 [==============================] - 1s 2ms/step - loss: 0.1081 - accuracy: 0.9679\n",
      "Epoch 57/100\n",
      "600/600 [==============================] - 1s 2ms/step - loss: 0.1072 - accuracy: 0.9682\n",
      "Epoch 58/100\n",
      "600/600 [==============================] - 1s 2ms/step - loss: 0.1035 - accuracy: 0.9692\n",
      "Epoch 59/100\n",
      "600/600 [==============================] - 1s 2ms/step - loss: 0.1054 - accuracy: 0.9687\n",
      "Epoch 60/100\n",
      "600/600 [==============================] - 1s 2ms/step - loss: 0.1046 - accuracy: 0.9689\n",
      "Epoch 61/100\n",
      "600/600 [==============================] - 1s 2ms/step - loss: 0.1043 - accuracy: 0.9688\n",
      "Epoch 62/100\n",
      "600/600 [==============================] - 1s 2ms/step - loss: 0.1024 - accuracy: 0.9696\n",
      "Epoch 63/100\n",
      "600/600 [==============================] - 1s 2ms/step - loss: 0.1020 - accuracy: 0.9696\n",
      "Epoch 64/100\n",
      "600/600 [==============================] - 1s 2ms/step - loss: 0.1008 - accuracy: 0.9700\n",
      "Epoch 65/100\n",
      "600/600 [==============================] - 1s 2ms/step - loss: 0.0989 - accuracy: 0.9707\n",
      "Epoch 66/100\n",
      "600/600 [==============================] - 1s 2ms/step - loss: 0.0991 - accuracy: 0.9700\n",
      "Epoch 67/100\n",
      "600/600 [==============================] - 1s 2ms/step - loss: 0.0966 - accuracy: 0.9715\n",
      "Epoch 68/100\n",
      "600/600 [==============================] - 1s 2ms/step - loss: 0.0965 - accuracy: 0.9712\n",
      "Epoch 69/100\n",
      "600/600 [==============================] - 1s 2ms/step - loss: 0.0969 - accuracy: 0.9708\n",
      "Epoch 70/100\n",
      "600/600 [==============================] - 1s 2ms/step - loss: 0.0941 - accuracy: 0.9718\n",
      "Epoch 71/100\n",
      "600/600 [==============================] - 1s 2ms/step - loss: 0.0942 - accuracy: 0.9716\n",
      "Epoch 72/100\n",
      "600/600 [==============================] - 1s 2ms/step - loss: 0.0928 - accuracy: 0.9725\n",
      "Epoch 73/100\n",
      "600/600 [==============================] - 1s 2ms/step - loss: 0.0931 - accuracy: 0.9723\n",
      "Epoch 74/100\n",
      "600/600 [==============================] - 1s 2ms/step - loss: 0.0924 - accuracy: 0.9723\n",
      "Epoch 75/100\n",
      "600/600 [==============================] - 1s 2ms/step - loss: 0.0926 - accuracy: 0.9717\n",
      "Epoch 76/100\n",
      "600/600 [==============================] - 1s 2ms/step - loss: 0.0912 - accuracy: 0.9726\n",
      "Epoch 77/100\n",
      "600/600 [==============================] - 1s 2ms/step - loss: 0.0930 - accuracy: 0.9722\n",
      "Epoch 78/100\n",
      "600/600 [==============================] - 2s 3ms/step - loss: 0.0873 - accuracy: 0.9742\n",
      "Epoch 79/100\n",
      "600/600 [==============================] - 1s 2ms/step - loss: 0.0914 - accuracy: 0.9727\n",
      "Epoch 80/100\n",
      "600/600 [==============================] - 1s 2ms/step - loss: 0.0873 - accuracy: 0.9742\n",
      "Epoch 81/100\n",
      "600/600 [==============================] - 1s 2ms/step - loss: 0.0884 - accuracy: 0.9740\n",
      "Epoch 82/100\n",
      "600/600 [==============================] - 1s 2ms/step - loss: 0.0896 - accuracy: 0.9734\n",
      "Epoch 83/100\n",
      "600/600 [==============================] - 1s 2ms/step - loss: 0.0888 - accuracy: 0.9733\n",
      "Epoch 84/100\n",
      "600/600 [==============================] - 1s 2ms/step - loss: 0.0874 - accuracy: 0.9738\n",
      "Epoch 85/100\n",
      "600/600 [==============================] - 1s 2ms/step - loss: 0.0855 - accuracy: 0.9740\n",
      "Epoch 86/100\n",
      "600/600 [==============================] - 1s 2ms/step - loss: 0.0852 - accuracy: 0.9746\n",
      "Epoch 87/100\n",
      "600/600 [==============================] - 1s 2ms/step - loss: 0.0868 - accuracy: 0.9741\n",
      "Epoch 88/100\n",
      "600/600 [==============================] - 1s 2ms/step - loss: 0.0868 - accuracy: 0.9743\n",
      "Epoch 89/100\n",
      "600/600 [==============================] - 1s 2ms/step - loss: 0.0865 - accuracy: 0.9742\n",
      "Epoch 90/100\n",
      "600/600 [==============================] - 1s 2ms/step - loss: 0.0824 - accuracy: 0.9750\n",
      "Epoch 91/100\n",
      "600/600 [==============================] - 1s 2ms/step - loss: 0.0858 - accuracy: 0.9742\n",
      "Epoch 92/100\n",
      "600/600 [==============================] - 1s 2ms/step - loss: 0.0843 - accuracy: 0.9743\n",
      "Epoch 93/100\n",
      "600/600 [==============================] - 1s 2ms/step - loss: 0.0823 - accuracy: 0.9750\n",
      "Epoch 94/100\n",
      "600/600 [==============================] - 1s 2ms/step - loss: 0.0852 - accuracy: 0.9746\n",
      "Epoch 95/100\n",
      "600/600 [==============================] - 1s 2ms/step - loss: 0.0819 - accuracy: 0.9753\n",
      "Epoch 96/100\n",
      "600/600 [==============================] - 1s 2ms/step - loss: 0.0819 - accuracy: 0.9757\n",
      "Epoch 97/100\n",
      "600/600 [==============================] - 1s 2ms/step - loss: 0.0819 - accuracy: 0.9759\n",
      "Epoch 98/100\n",
      "600/600 [==============================] - 1s 2ms/step - loss: 0.0813 - accuracy: 0.9759\n",
      "Epoch 99/100\n",
      "600/600 [==============================] - 1s 2ms/step - loss: 0.0813 - accuracy: 0.9757\n",
      "Epoch 100/100\n",
      "600/600 [==============================] - 1s 2ms/step - loss: 0.0828 - accuracy: 0.9751\n"
     ]
    },
    {
     "data": {
      "text/plain": [
       "<keras.callbacks.History at 0x7b14cab10210>"
      ]
     },
     "execution_count": 12,
     "metadata": {},
     "output_type": "execute_result"
    }
   ],
   "source": [
    "model.fit(train_X,train_y,epochs=100,batch_size=100)"
   ]
  },
  {
   "cell_type": "markdown",
   "id": "40e6715a",
   "metadata": {
    "papermill": {
     "duration": 0.188329,
     "end_time": "2023-04-29T17:11:44.586792",
     "exception": false,
     "start_time": "2023-04-29T17:11:44.398463",
     "status": "completed"
    },
    "tags": []
   },
   "source": [
    "# PREDICTIONS"
   ]
  },
  {
   "cell_type": "code",
   "execution_count": 13,
   "id": "f56b9e7c",
   "metadata": {
    "execution": {
     "iopub.execute_input": "2023-04-29T17:11:45.033562Z",
     "iopub.status.busy": "2023-04-29T17:11:45.033134Z",
     "iopub.status.idle": "2023-04-29T17:11:45.063803Z",
     "shell.execute_reply": "2023-04-29T17:11:45.062653Z"
    },
    "papermill": {
     "duration": 0.291363,
     "end_time": "2023-04-29T17:11:45.066630",
     "exception": false,
     "start_time": "2023-04-29T17:11:44.775267",
     "status": "completed"
    },
    "tags": []
   },
   "outputs": [],
   "source": [
    "to_predict = np.array([test_X[0]]) #our input \n",
    "logits = model(to_predict) \n",
    "probs = tf.nn.softmax(logits)\n",
    "predictions = tf.argmax(probs, axis=1)"
   ]
  },
  {
   "cell_type": "code",
   "execution_count": 14,
   "id": "c8d9aaab",
   "metadata": {
    "execution": {
     "iopub.execute_input": "2023-04-29T17:11:45.448427Z",
     "iopub.status.busy": "2023-04-29T17:11:45.447983Z",
     "iopub.status.idle": "2023-04-29T17:11:45.455069Z",
     "shell.execute_reply": "2023-04-29T17:11:45.453992Z"
    },
    "papermill": {
     "duration": 0.20161,
     "end_time": "2023-04-29T17:11:45.457473",
     "exception": false,
     "start_time": "2023-04-29T17:11:45.255863",
     "status": "completed"
    },
    "tags": []
   },
   "outputs": [
    {
     "data": {
      "text/plain": [
       "array([7])"
      ]
     },
     "execution_count": 14,
     "metadata": {},
     "output_type": "execute_result"
    }
   ],
   "source": [
    "predictions.numpy()"
   ]
  }
 ],
 "metadata": {
  "kernelspec": {
   "display_name": "Python 3",
   "language": "python",
   "name": "python3"
  },
  "language_info": {
   "codemirror_mode": {
    "name": "ipython",
    "version": 3
   },
   "file_extension": ".py",
   "mimetype": "text/x-python",
   "name": "python",
   "nbconvert_exporter": "python",
   "pygments_lexer": "ipython3",
   "version": "3.7.12"
  },
  "papermill": {
   "default_parameters": {},
   "duration": 166.741832,
   "end_time": "2023-04-29T17:11:48.391954",
   "environment_variables": {},
   "exception": null,
   "input_path": "__notebook__.ipynb",
   "output_path": "__notebook__.ipynb",
   "parameters": {},
   "start_time": "2023-04-29T17:09:01.650122",
   "version": "2.4.0"
  }
 },
 "nbformat": 4,
 "nbformat_minor": 5
}
